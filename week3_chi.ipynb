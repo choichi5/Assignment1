{
  "nbformat": 4,
  "nbformat_minor": 0,
  "metadata": {
    "colab": {
      "provenance": [],
      "authorship_tag": "ABX9TyNbTURkGtPLCB69LMkSKvL1",
      "include_colab_link": true
    },
    "kernelspec": {
      "name": "python3",
      "display_name": "Python 3"
    },
    "language_info": {
      "name": "python"
    }
  },
  "cells": [
    {
      "cell_type": "markdown",
      "metadata": {
        "id": "view-in-github",
        "colab_type": "text"
      },
      "source": [
        "<a href=\"https://colab.research.google.com/github/choichi5/Assignment1/blob/main/week3_chi.ipynb\" target=\"_parent\"><img src=\"https://colab.research.google.com/assets/colab-badge.svg\" alt=\"Open In Colab\"/></a>"
      ]
    },
    {
      "cell_type": "markdown",
      "source": [
        "## Problem 1\n",
        "\n",
        "* 강의자료 예제 실행해보기\n",
        "  * 강의자료의 **Python 기초 문법** 예제들을 이 아래의 코드블록으로 재작성하고 실행"
      ],
      "metadata": {
        "id": "xfymURbtW8XS"
      }
    },
    {
      "cell_type": "code",
      "source": [
        "# helloworld\n",
        "print('hello world')"
      ],
      "metadata": {
        "id": "GwHIfZkjXYXs"
      },
      "execution_count": null,
      "outputs": []
    },
    {
      "cell_type": "code",
      "source": [
        "'''\n",
        "Function name: helloworld\n",
        "This function prints 'hello world'\n",
        "'''\n",
        "\n",
        "def helloworld():\n",
        "  print('hello world')\n",
        "\n",
        "helloworld()"
      ],
      "metadata": {
        "id": "3eNj7ZI1XedW"
      },
      "execution_count": null,
      "outputs": []
    },
    {
      "cell_type": "code",
      "source": [
        "print('start')\n",
        "for i in range(10):\n",
        "  if i > 5:\n",
        "    print('ii = %d > 5' % i)\n",
        "  elif i == 5:\n",
        "    print('ii = %d == 5' % i)\n",
        "  else:\n",
        "    print('ii = %d < 5' % i)\n",
        "    #for의 범위는 여기까지다.\n",
        "print('end')"
      ],
      "metadata": {
        "id": "8YUZ5WgYXzRE"
      },
      "execution_count": null,
      "outputs": []
    },
    {
      "cell_type": "code",
      "source": [
        "def function1():\n",
        "    print(' function start')\n",
        "    print(' function end')\n",
        "    # 여기까지 함수의 영역이다.\n",
        "\n",
        "print('script start')\n",
        "function1()\n",
        "print('script end')\n"
      ],
      "metadata": {
        "id": "1hilOzk8YRCw"
      },
      "execution_count": null,
      "outputs": []
    },
    {
      "cell_type": "code",
      "source": [
        "a = input()\n",
        "print(a)\n"
      ],
      "metadata": {
        "id": "G6H5F61cYTmG"
      },
      "execution_count": null,
      "outputs": []
    },
    {
      "cell_type": "code",
      "source": [
        "i = 4\n",
        "j = 4.5\n",
        "k = 'abc'\n",
        "print('i=%d j=%.1f k=%s' % (i, j, k))\n"
      ],
      "metadata": {
        "id": "N4Qiee-xYVTK"
      },
      "execution_count": null,
      "outputs": []
    },
    {
      "cell_type": "markdown",
      "source": [
        "## Problem 2\n",
        "\n",
        "- 프로그램 작성해보기  \n",
        "  - 제시된 출력결과를 보고, 아래 미완성 프로그램을 완성\n"
      ],
      "metadata": {
        "id": "bBVZeU7bYW2z"
      }
    },
    {
      "cell_type": "code",
      "source": [
        "name = input(\"What is your name? \")\n",
        "age = int(input(\"How old are you? \"))\n",
        "grade = float(input(\"What is your grade point average?\"))\n",
        "\n",
        "print(\"Your name is %s\" % name)\n",
        "print(\"Your age is %d\" % age)\n",
        "print(\"Your grade is %.1f\" % grade)\n"
      ],
      "metadata": {
        "colab": {
          "base_uri": "https://localhost:8080/"
        },
        "id": "h9fgdxh8YX3M",
        "outputId": "67906168-2070-44e0-95ba-aaa51506e662"
      },
      "execution_count": 1,
      "outputs": [
        {
          "output_type": "stream",
          "name": "stdout",
          "text": [
            "What is your name? chi\n",
            "How old are you? 25\n",
            "What is your grade point average?3.8\n",
            "Your name is chi\n",
            "Your age is 25\n",
            "Your grade is 3.8\n"
          ]
        }
      ]
    }
  ]
}